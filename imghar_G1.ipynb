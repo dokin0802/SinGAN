{
  "nbformat": 4,
  "nbformat_minor": 0,
  "metadata": {
    "colab": {
      "name": "SinGAN.ipynb",
      "provenance": [],
      "machine_shape": "hm",
      "gpuType": "A100",
      "gpuClass": "premium",
      "include_colab_link": true
    },
    "kernelspec": {
      "name": "python3",
      "display_name": "Python 3"
    },
    "accelerator": "GPU",
    "gpuClass": "premium"
  },
  "cells": [
    {
      "cell_type": "markdown",
      "metadata": {
        "id": "view-in-github",
        "colab_type": "text"
      },
      "source": [
        "<a href=\"https://colab.research.google.com/github/dokin0802/SinGAN/blob/master/imghar_G1.ipynb\" target=\"_parent\"><img src=\"https://colab.research.google.com/assets/colab-badge.svg\" alt=\"Open In Colab\"/></a>"
      ]
    },
    {
      "cell_type": "markdown",
      "metadata": {
        "id": "oo6DvqDiB9C9"
      },
      "source": [
        "#SinGAN\n",
        "SinGAN is a ML library that allows you to do a lot of different things with one image as your dataset. As we’ve previously discussed usually you need a ton of images to be able to do anything in ML, so SinGAN needing only one image is a huge change.\n",
        "\n",
        "It is, however, important to keep in mind what its outputs are. SinGAN, to me, is most like Photoshop’s Context Aware tools. It allows you to manipulate the single image in interesting ways, but in the end is only going to return you that same image, slightly modified. SinGAN is a bit of a Swiss Army Knife and that makes it pretty cool in a world of single-use ML tools.\n",
        "\n",
        "Let’s take a look."
      ]
    },
    {
      "cell_type": "markdown",
      "metadata": {
        "id": "ml04N83FROe-"
      },
      "source": [
        "##Set up our Runtime\n",
        "Colab needs to know we need to use a GPU-powered machine in order to do style transfers. At the top of this page, click on the `Runtime` tab, then select `Change runtime type`. In the modal that pops up, select `GPU` under the `Hardware accelerator` options."
      ]
    },
    {
      "cell_type": "code",
      "metadata": {
        "id": "wcZrYaiYdZM5",
        "outputId": "25e35d48-c368-4748-ff8b-a78663683dac",
        "colab": {
          "base_uri": "https://localhost:8080/"
        }
      },
      "source": [
        "!nvidia-smi -L"
      ],
      "execution_count": null,
      "outputs": [
        {
          "output_type": "stream",
          "name": "stdout",
          "text": [
            "GPU 0: NVIDIA A100-SXM4-40GB (UUID: GPU-54f4187b-3791-2896-1cb5-1c1d63251a18)\n"
          ]
        }
      ]
    },
    {
      "cell_type": "markdown",
      "metadata": {
        "id": "_tatkCDnBqCH"
      },
      "source": [
        "## Set up SinGAN\n",
        "Let’s install the SinGAN repo and install all the dependencies needed"
      ]
    },
    {
      "cell_type": "code",
      "metadata": {
        "id": "vx1w_rUCAUNB",
        "colab": {
          "base_uri": "https://localhost:8080/"
        },
        "outputId": "7be47be1-63f6-43d1-d747-b5e2c8bec9cb"
      },
      "source": [
        "!git clone https://github.com/dokin0802/SinGAN\n",
        "#!pip install torch==1.4.0 torchvision==0.5.0\n",
        "!pip3 install torch\n",
        "!pip3 install torchvision\n",
        "%cd /content/SinGAN/"
      ],
      "execution_count": 2,
      "outputs": [
        {
          "output_type": "stream",
          "name": "stdout",
          "text": [
            "fatal: destination path 'SinGAN' already exists and is not an empty directory.\n",
            "Looking in indexes: https://pypi.org/simple, https://us-python.pkg.dev/colab-wheels/public/simple/\n",
            "Requirement already satisfied: torch in /usr/local/lib/python3.10/dist-packages (2.0.1+cu118)\n",
            "Requirement already satisfied: filelock in /usr/local/lib/python3.10/dist-packages (from torch) (3.12.0)\n",
            "Requirement already satisfied: typing-extensions in /usr/local/lib/python3.10/dist-packages (from torch) (4.5.0)\n",
            "Requirement already satisfied: sympy in /usr/local/lib/python3.10/dist-packages (from torch) (1.11.1)\n",
            "Requirement already satisfied: networkx in /usr/local/lib/python3.10/dist-packages (from torch) (3.1)\n",
            "Requirement already satisfied: jinja2 in /usr/local/lib/python3.10/dist-packages (from torch) (3.1.2)\n",
            "Requirement already satisfied: triton==2.0.0 in /usr/local/lib/python3.10/dist-packages (from torch) (2.0.0)\n",
            "Requirement already satisfied: cmake in /usr/local/lib/python3.10/dist-packages (from triton==2.0.0->torch) (3.25.2)\n",
            "Requirement already satisfied: lit in /usr/local/lib/python3.10/dist-packages (from triton==2.0.0->torch) (16.0.5)\n",
            "Requirement already satisfied: MarkupSafe>=2.0 in /usr/local/lib/python3.10/dist-packages (from jinja2->torch) (2.1.2)\n",
            "Requirement already satisfied: mpmath>=0.19 in /usr/local/lib/python3.10/dist-packages (from sympy->torch) (1.3.0)\n",
            "Looking in indexes: https://pypi.org/simple, https://us-python.pkg.dev/colab-wheels/public/simple/\n",
            "Requirement already satisfied: torchvision in /usr/local/lib/python3.10/dist-packages (0.15.2+cu118)\n",
            "Requirement already satisfied: numpy in /usr/local/lib/python3.10/dist-packages (from torchvision) (1.22.4)\n",
            "Requirement already satisfied: requests in /usr/local/lib/python3.10/dist-packages (from torchvision) (2.27.1)\n",
            "Requirement already satisfied: torch==2.0.1 in /usr/local/lib/python3.10/dist-packages (from torchvision) (2.0.1+cu118)\n",
            "Requirement already satisfied: pillow!=8.3.*,>=5.3.0 in /usr/local/lib/python3.10/dist-packages (from torchvision) (8.4.0)\n",
            "Requirement already satisfied: filelock in /usr/local/lib/python3.10/dist-packages (from torch==2.0.1->torchvision) (3.12.0)\n",
            "Requirement already satisfied: typing-extensions in /usr/local/lib/python3.10/dist-packages (from torch==2.0.1->torchvision) (4.5.0)\n",
            "Requirement already satisfied: sympy in /usr/local/lib/python3.10/dist-packages (from torch==2.0.1->torchvision) (1.11.1)\n",
            "Requirement already satisfied: networkx in /usr/local/lib/python3.10/dist-packages (from torch==2.0.1->torchvision) (3.1)\n",
            "Requirement already satisfied: jinja2 in /usr/local/lib/python3.10/dist-packages (from torch==2.0.1->torchvision) (3.1.2)\n",
            "Requirement already satisfied: triton==2.0.0 in /usr/local/lib/python3.10/dist-packages (from torch==2.0.1->torchvision) (2.0.0)\n",
            "Requirement already satisfied: cmake in /usr/local/lib/python3.10/dist-packages (from triton==2.0.0->torch==2.0.1->torchvision) (3.25.2)\n",
            "Requirement already satisfied: lit in /usr/local/lib/python3.10/dist-packages (from triton==2.0.0->torch==2.0.1->torchvision) (16.0.5)\n",
            "Requirement already satisfied: urllib3<1.27,>=1.21.1 in /usr/local/lib/python3.10/dist-packages (from requests->torchvision) (1.26.15)\n",
            "Requirement already satisfied: certifi>=2017.4.17 in /usr/local/lib/python3.10/dist-packages (from requests->torchvision) (2022.12.7)\n",
            "Requirement already satisfied: charset-normalizer~=2.0.0 in /usr/local/lib/python3.10/dist-packages (from requests->torchvision) (2.0.12)\n",
            "Requirement already satisfied: idna<4,>=2.5 in /usr/local/lib/python3.10/dist-packages (from requests->torchvision) (3.4)\n",
            "Requirement already satisfied: MarkupSafe>=2.0 in /usr/local/lib/python3.10/dist-packages (from jinja2->torch==2.0.1->torchvision) (2.1.2)\n",
            "Requirement already satisfied: mpmath>=0.19 in /usr/local/lib/python3.10/dist-packages (from sympy->torch==2.0.1->torchvision) (1.3.0)\n",
            "/content/SinGAN\n"
          ]
        }
      ]
    },
    {
      "cell_type": "code",
      "source": [
        "import shutil\n",
        "shutil.rmtree('/content/SinGAN/Output')"
      ],
      "metadata": {
        "id": "pwJqMyrQ2neM"
      },
      "execution_count": null,
      "outputs": []
    },
    {
      "cell_type": "code",
      "source": [],
      "metadata": {
        "id": "XubzBgf17d98"
      },
      "execution_count": null,
      "outputs": []
    },
    {
      "cell_type": "code",
      "source": [
        "from PIL import Image\n",
        "import os\n",
        "%cd /content/SinGAN/\n",
        "raw_path = '/content/SinGAN/Input/Harmonization' # 원본 이미지 경로\n",
        "\n",
        "token_list = os.listdir(raw_path) # 원본 이미지 경로 내 폴더들 list\n",
        "\n",
        "data_path = '/content/people_re/'  # 저장할 이미지 경로\n",
        "\n",
        "  # resize 시작 --------------------\n",
        "for token in token_list:\n",
        "  #원본 이미지 경로와 저장할 경로 이미지 지정\n",
        "  image_path = raw_path\n",
        "  save_path = data_path\n",
        "\n",
        "  # 저장할 경로 없으면 생성\n",
        "\n",
        "if not os.path.exists(save_path):\n",
        "      os.mkdir(save_path)\n",
        "  #원본 이미지 경로의 모든 이미지 list 지정\n",
        "\n",
        "data_list = os.listdir(image_path)\n",
        "print(len(data_list))\n",
        "\n",
        "  # 모든 이미지 resize 후 저장하기\n"
      ],
      "metadata": {
        "id": "lPpQtYTtSoR4",
        "outputId": "99902819-889b-42e4-84d8-9989de60b97d",
        "colab": {
          "base_uri": "https://localhost:8080/"
        }
      },
      "execution_count": 4,
      "outputs": [
        {
          "output_type": "stream",
          "name": "stdout",
          "text": [
            "/content/SinGAN\n",
            "73\n"
          ]
        }
      ]
    },
    {
      "cell_type": "code",
      "source": [
        "\n",
        "for x in token_list:\n",
        "  if len(x) > 12:\n",
        "    pass\n",
        "  else:\n",
        "    print(x)"
      ],
      "metadata": {
        "id": "EtDozR8vcDjP",
        "outputId": "db98428e-2352-4a80-b945-9d6723b41a2e",
        "colab": {
          "base_uri": "https://localhost:8080/"
        }
      },
      "execution_count": 9,
      "outputs": [
        {
          "output_type": "stream",
          "name": "stdout",
          "text": [
            "00000012.png\n",
            "00000013.png\n",
            "00000022.png\n",
            "00000028.png\n",
            "00000030.png\n",
            "00000037.png\n",
            "00000046.png\n",
            "00000055.png\n",
            "00000065.png\n",
            "00000084.png\n",
            "00000090.png\n",
            "00000091.png\n",
            "00000092.png\n",
            "00000097.png\n",
            "00000109.png\n",
            "00000123.png\n",
            "00000139.png\n",
            "00000140.png\n",
            "00000152.png\n",
            "00000155.png\n",
            "00000179.png\n",
            "00000195.png\n",
            "00000196.png\n",
            "00000219.png\n",
            "00000223.png\n",
            "00000254.png\n",
            "00000255.png\n",
            "00000257.png\n",
            "00000258.png\n",
            "00000269.png\n",
            "00000287.png\n",
            "00000311.png\n",
            "00000318.png\n",
            "00000326.png\n",
            "00000362.png\n",
            "00000417.png\n"
          ]
        }
      ]
    },
    {
      "cell_type": "code",
      "source": [
        "!python harmonization.py --input_name real_scale.png --ref_name 00000012.png --harmonization_start_scale 1\n",
        "!python harmonization.py --input_name real_scale.png --ref_name 00000012.png --harmonization_start_scale 2\n",
        "!python harmonization.py --input_name real_scale.png --ref_name 00000012.png --harmonization_start_scale 3\n",
        "!python harmonization.py --input_name real_scale.png --ref_name 00000012.png --harmonization_start_scale 4\n",
        "!python harmonization.py --input_name real_scale.png --ref_name 00000012.png --harmonization_start_scale 5\n",
        "!python harmonization.py --input_name real_scale.png --ref_name 00000012.png --harmonization_start_scale 6\n",
        "!python harmonization.py --input_name real_scale.png --ref_name 00000012.png --harmonization_start_scale 7"
      ],
      "metadata": {
        "id": "pkW-fNT045PK",
        "outputId": "b9ea171e-9056-40c4-8a68-df3fd4bd740b",
        "colab": {
          "base_uri": "https://localhost:8080/"
        }
      },
      "execution_count": null,
      "outputs": [
        {
          "output_type": "stream",
          "name": "stdout",
          "text": [
            "Random Seed:  8484\n",
            "Random Seed:  3680\n",
            "Random Seed:  5490\n"
          ]
        }
      ]
    },
    {
      "cell_type": "code",
      "metadata": {
        "id": "BNtL1p3TP-vm"
      },
      "source": [
        "!python harmonization.py --input_name real_scale.png --ref_name 00000022.png --harmonization_start_scale 1\n",
        "!python harmonization.py --input_name real_scale.png --ref_name 00000022.png --harmonization_start_scale 2\n",
        "!python harmonization.py --input_name real_scale.png --ref_name 00000022.png --harmonization_start_scale 3\n",
        "!python harmonization.py --input_name real_scale.png --ref_name 00000022.png --harmonization_start_scale 4\n",
        "!python harmonization.py --input_name real_scale.png --ref_name 00000022.png --harmonization_start_scale 5\n",
        "!python harmonization.py --input_name real_scale.png --ref_name 00000022.png --harmonization_start_scale 6\n",
        "!python harmonization.py --input_name real_scale.png --ref_name 00000022.png --harmonization_start_scale 7"
      ],
      "execution_count": null,
      "outputs": []
    },
    {
      "cell_type": "code",
      "source": [
        "!python harmonization.py --input_name real_scale.png --ref_name 00000028.png --harmonization_start_scale 1\n",
        "!python harmonization.py --input_name real_scale.png --ref_name 00000028.png --harmonization_start_scale 2\n",
        "!python harmonization.py --input_name real_scale.png --ref_name 00000028.png --harmonization_start_scale 3\n",
        "!python harmonization.py --input_name real_scale.png --ref_name 00000028.png --harmonization_start_scale 4\n",
        "!python harmonization.py --input_name real_scale.png --ref_name 00000028.png --harmonization_start_scale 5\n",
        "!python harmonization.py --input_name real_scale.png --ref_name 00000028.png --harmonization_start_scale 6\n",
        "!python harmonization.py --input_name real_scale.png --ref_name 00000028.png --harmonization_start_scale 7"
      ],
      "metadata": {
        "id": "XbwE0hblKvQy"
      },
      "execution_count": null,
      "outputs": []
    },
    {
      "cell_type": "code",
      "source": [
        "!python harmonization.py --input_name real_scale.png --ref_name 00000030.png --harmonization_start_scale 1\n",
        "!python harmonization.py --input_name real_scale.png --ref_name 00000030.png --harmonization_start_scale 2\n",
        "!python harmonization.py --input_name real_scale.png --ref_name 00000030.png --harmonization_start_scale 3\n",
        "!python harmonization.py --input_name real_scale.png --ref_name 00000030.png --harmonization_start_scale 4\n",
        "!python harmonization.py --input_name real_scale.png --ref_name 00000030.png --harmonization_start_scale 5\n",
        "!python harmonization.py --input_name real_scale.png --ref_name 00000030.png --harmonization_start_scale 6\n",
        "!python harmonization.py --input_name real_scale.png --ref_name 00000030.png --harmonization_start_scale 7"
      ],
      "metadata": {
        "id": "kmua6XOfKvTS"
      },
      "execution_count": null,
      "outputs": []
    },
    {
      "cell_type": "code",
      "source": [
        "!python harmonization.py --input_name real_scale.png --ref_name 00000037.png --harmonization_start_scale 1\n",
        "!python harmonization.py --input_name real_scale.png --ref_name 00000037.png --harmonization_start_scale 2\n",
        "!python harmonization.py --input_name real_scale.png --ref_name 00000037.png --harmonization_start_scale 3\n",
        "!python harmonization.py --input_name real_scale.png --ref_name 00000037.png --harmonization_start_scale 4\n",
        "!python harmonization.py --input_name real_scale.png --ref_name 00000037.png --harmonization_start_scale 5\n",
        "!python harmonization.py --input_name real_scale.png --ref_name 00000037.png --harmonization_start_scale 6\n",
        "!python harmonization.py --input_name real_scale.png --ref_name 00000037.png --harmonization_start_scale 7"
      ],
      "metadata": {
        "id": "5ijYP_rIKvWN"
      },
      "execution_count": null,
      "outputs": []
    },
    {
      "cell_type": "code",
      "source": [
        "!python harmonization.py --input_name real_scale.png --ref_name 00000046.png --harmonization_start_scale 1\n",
        "!python harmonization.py --input_name real_scale.png --ref_name 00000046.png --harmonization_start_scale 2\n",
        "!python harmonization.py --input_name real_scale.png --ref_name 00000046.png --harmonization_start_scale 3\n",
        "!python harmonization.py --input_name real_scale.png --ref_name 00000046.png --harmonization_start_scale 4\n",
        "!python harmonization.py --input_name real_scale.png --ref_name 00000046.png --harmonization_start_scale 5\n",
        "!python harmonization.py --input_name real_scale.png --ref_name 00000046.png --harmonization_start_scale 6\n",
        "!python harmonization.py --input_name real_scale.png --ref_name 00000046.png --harmonization_start_scale 7"
      ],
      "metadata": {
        "id": "judtvo_HKvYz"
      },
      "execution_count": null,
      "outputs": []
    },
    {
      "cell_type": "code",
      "source": [
        "!python harmonization.py --input_name real_scale.png --ref_name 00000055.png --harmonization_start_scale 1\n",
        "!python harmonization.py --input_name real_scale.png --ref_name 00000055.png --harmonization_start_scale 2\n",
        "!python harmonization.py --input_name real_scale.png --ref_name 00000055.png --harmonization_start_scale 3\n",
        "!python harmonization.py --input_name real_scale.png --ref_name 00000055.png --harmonization_start_scale 4\n",
        "!python harmonization.py --input_name real_scale.png --ref_name 00000055.png --harmonization_start_scale 5\n",
        "!python harmonization.py --input_name real_scale.png --ref_name 00000055.png --harmonization_start_scale 6\n",
        "!python harmonization.py --input_name real_scale.png --ref_name 00000055.png --harmonization_start_scale 7"
      ],
      "metadata": {
        "id": "nf4pCkpmKvb2"
      },
      "execution_count": null,
      "outputs": []
    },
    {
      "cell_type": "code",
      "source": [
        "!python harmonization.py --input_name real_scale.png --ref_name 00000065.png --harmonization_start_scale 1\n",
        "!python harmonization.py --input_name real_scale.png --ref_name 00000065.png --harmonization_start_scale 2\n",
        "!python harmonization.py --input_name real_scale.png --ref_name 00000065.png --harmonization_start_scale 3\n",
        "!python harmonization.py --input_name real_scale.png --ref_name 00000065.png --harmonization_start_scale 4\n",
        "!python harmonization.py --input_name real_scale.png --ref_name 00000065.png --harmonization_start_scale 5\n",
        "!python harmonization.py --input_name real_scale.png --ref_name 00000065.png --harmonization_start_scale 6\n",
        "!python harmonization.py --input_name real_scale.png --ref_name 00000065.png --harmonization_start_scale 7"
      ],
      "metadata": {
        "id": "5B8WN9XZKveo"
      },
      "execution_count": null,
      "outputs": []
    },
    {
      "cell_type": "code",
      "source": [
        "!python harmonization.py --input_name real_scale.png --ref_name 00000084.png --harmonization_start_scale 1\n",
        "!python harmonization.py --input_name real_scale.png --ref_name 00000084.png --harmonization_start_scale 2\n",
        "!python harmonization.py --input_name real_scale.png --ref_name 00000084.png --harmonization_start_scale 3\n",
        "!python harmonization.py --input_name real_scale.png --ref_name 00000084.png --harmonization_start_scale 4\n",
        "!python harmonization.py --input_name real_scale.png --ref_name 00000084.png --harmonization_start_scale 5\n",
        "!python harmonization.py --input_name real_scale.png --ref_name 00000084.png --harmonization_start_scale 6\n",
        "!python harmonization.py --input_name real_scale.png --ref_name 00000084.png --harmonization_start_scale 7"
      ],
      "metadata": {
        "id": "dytfJ3JhKvhW"
      },
      "execution_count": null,
      "outputs": []
    },
    {
      "cell_type": "code",
      "source": [
        "!python harmonization.py --input_name real_scale.png --ref_name 00000090.png --harmonization_start_scale 1\n",
        "!python harmonization.py --input_name real_scale.png --ref_name 00000090.png --harmonization_start_scale 2\n",
        "!python harmonization.py --input_name real_scale.png --ref_name 00000090.png --harmonization_start_scale 3\n",
        "!python harmonization.py --input_name real_scale.png --ref_name 00000090.png --harmonization_start_scale 4\n",
        "!python harmonization.py --input_name real_scale.png --ref_name 00000090.png --harmonization_start_scale 5\n",
        "!python harmonization.py --input_name real_scale.png --ref_name 00000090.png --harmonization_start_scale 6\n",
        "!python harmonization.py --input_name real_scale.png --ref_name 00000090.png --harmonization_start_scale 7"
      ],
      "metadata": {
        "id": "1aoc5RNeKvkp"
      },
      "execution_count": null,
      "outputs": []
    },
    {
      "cell_type": "code",
      "source": [
        "!python harmonization.py --input_name real_scale.png --ref_name 00000091.png --harmonization_start_scale 1\n",
        "!python harmonization.py --input_name real_scale.png --ref_name 00000091.png --harmonization_start_scale 2\n",
        "!python harmonization.py --input_name real_scale.png --ref_name 00000091.png --harmonization_start_scale 3\n",
        "!python harmonization.py --input_name real_scale.png --ref_name 00000091.png --harmonization_start_scale 4\n",
        "!python harmonization.py --input_name real_scale.png --ref_name 00000091.png --harmonization_start_scale 5\n",
        "!python harmonization.py --input_name real_scale.png --ref_name 00000091.png --harmonization_start_scale 6\n",
        "!python harmonization.py --input_name real_scale.png --ref_name 00000091.png --harmonization_start_scale 7"
      ],
      "metadata": {
        "id": "Nkp_hgySKvnS"
      },
      "execution_count": null,
      "outputs": []
    },
    {
      "cell_type": "code",
      "source": [
        "!python harmonization.py --input_name real_scale.png --ref_name 00000092.png --harmonization_start_scale 1\n",
        "!python harmonization.py --input_name real_scale.png --ref_name 00000092.png --harmonization_start_scale 2\n",
        "!python harmonization.py --input_name real_scale.png --ref_name 00000092.png --harmonization_start_scale 3\n",
        "!python harmonization.py --input_name real_scale.png --ref_name 00000092.png --harmonization_start_scale 4\n",
        "!python harmonization.py --input_name real_scale.png --ref_name 00000092.png --harmonization_start_scale 5\n",
        "!python harmonization.py --input_name real_scale.png --ref_name 00000092.png --harmonization_start_scale 6\n",
        "!python harmonization.py --input_name real_scale.png --ref_name 00000092.png --harmonization_start_scale 7"
      ],
      "metadata": {
        "id": "qrpunQhTKvqG"
      },
      "execution_count": null,
      "outputs": []
    },
    {
      "cell_type": "code",
      "source": [
        "!python harmonization.py --input_name real_scale.png --ref_name 00000097.png --harmonization_start_scale 1\n",
        "!python harmonization.py --input_name real_scale.png --ref_name 00000097.png --harmonization_start_scale 2\n",
        "!python harmonization.py --input_name real_scale.png --ref_name 00000097.png --harmonization_start_scale 3\n",
        "!python harmonization.py --input_name real_scale.png --ref_name 00000097.png --harmonization_start_scale 4\n",
        "!python harmonization.py --input_name real_scale.png --ref_name 00000097.png --harmonization_start_scale 5\n",
        "!python harmonization.py --input_name real_scale.png --ref_name 00000097.png --harmonization_start_scale 6\n",
        "!python harmonization.py --input_name real_scale.png --ref_name 00000097.png --harmonization_start_scale 7"
      ],
      "metadata": {
        "id": "bMW7YsKkKvtE"
      },
      "execution_count": null,
      "outputs": []
    },
    {
      "cell_type": "code",
      "source": [
        "!python harmonization.py --input_name real_scale.png --ref_name 00000109.png --harmonization_start_scale 1\n",
        "!python harmonization.py --input_name real_scale.png --ref_name 00000109.png --harmonization_start_scale 2\n",
        "!python harmonization.py --input_name real_scale.png --ref_name 00000109.png --harmonization_start_scale 3\n",
        "!python harmonization.py --input_name real_scale.png --ref_name 00000109.png --harmonization_start_scale 4\n",
        "!python harmonization.py --input_name real_scale.png --ref_name 00000109.png --harmonization_start_scale 5\n",
        "!python harmonization.py --input_name real_scale.png --ref_name 00000109.png --harmonization_start_scale 6\n",
        "!python harmonization.py --input_name real_scale.png --ref_name 00000109.png --harmonization_start_scale 7"
      ],
      "metadata": {
        "id": "nzBFOgOZKvv7"
      },
      "execution_count": null,
      "outputs": []
    },
    {
      "cell_type": "code",
      "source": [
        "!python harmonization.py --input_name real_scale.png --ref_name 00000123.png --harmonization_start_scale 1\n",
        "!python harmonization.py --input_name real_scale.png --ref_name 00000123.png --harmonization_start_scale 2\n",
        "!python harmonization.py --input_name real_scale.png --ref_name 00000123.png --harmonization_start_scale 3\n",
        "!python harmonization.py --input_name real_scale.png --ref_name 00000123.png --harmonization_start_scale 4\n",
        "!python harmonization.py --input_name real_scale.png --ref_name 00000123.png --harmonization_start_scale 5\n",
        "!python harmonization.py --input_name real_scale.png --ref_name 00000123.png --harmonization_start_scale 6\n",
        "!python harmonization.py --input_name real_scale.png --ref_name 00000123.png --harmonization_start_scale 7"
      ],
      "metadata": {
        "id": "JC-05EsmKvy7"
      },
      "execution_count": null,
      "outputs": []
    },
    {
      "cell_type": "code",
      "source": [
        "!python harmonization.py --input_name real_scale.png --ref_name 00000139.png --harmonization_start_scale 1\n",
        "!python harmonization.py --input_name real_scale.png --ref_name 00000139.png --harmonization_start_scale 2\n",
        "!python harmonization.py --input_name real_scale.png --ref_name 00000139.png --harmonization_start_scale 3\n",
        "!python harmonization.py --input_name real_scale.png --ref_name 00000139.png --harmonization_start_scale 4\n",
        "!python harmonization.py --input_name real_scale.png --ref_name 00000139.png --harmonization_start_scale 5\n",
        "!python harmonization.py --input_name real_scale.png --ref_name 00000139.png --harmonization_start_scale 6\n",
        "!python harmonization.py --input_name real_scale.png --ref_name 00000139.png --harmonization_start_scale 7"
      ],
      "metadata": {
        "id": "5gCmSwRaKv1r"
      },
      "execution_count": null,
      "outputs": []
    },
    {
      "cell_type": "code",
      "source": [
        "!python harmonization.py --input_name real_scale.png --ref_name 00000140.png --harmonization_start_scale 1\n",
        "!python harmonization.py --input_name real_scale.png --ref_name 00000140.png --harmonization_start_scale 2\n",
        "!python harmonization.py --input_name real_scale.png --ref_name 00000140.png --harmonization_start_scale 3\n",
        "!python harmonization.py --input_name real_scale.png --ref_name 00000140.png --harmonization_start_scale 4\n",
        "!python harmonization.py --input_name real_scale.png --ref_name 00000140.png --harmonization_start_scale 5\n",
        "!python harmonization.py --input_name real_scale.png --ref_name 00000140.png --harmonization_start_scale 6\n",
        "!python harmonization.py --input_name real_scale.png --ref_name 00000140.png --harmonization_start_scale 7"
      ],
      "metadata": {
        "id": "FtJBHtIuKv4j"
      },
      "execution_count": null,
      "outputs": []
    },
    {
      "cell_type": "code",
      "source": [
        "!python harmonization.py --input_name real_scale.png --ref_name 00000152.png --harmonization_start_scale 1\n",
        "!python harmonization.py --input_name real_scale.png --ref_name 00000152.png --harmonization_start_scale 2\n",
        "!python harmonization.py --input_name real_scale.png --ref_name 00000152.png --harmonization_start_scale 3\n",
        "!python harmonization.py --input_name real_scale.png --ref_name 00000152.png --harmonization_start_scale 4\n",
        "!python harmonization.py --input_name real_scale.png --ref_name 00000152.png --harmonization_start_scale 5\n",
        "!python harmonization.py --input_name real_scale.png --ref_name 00000152.png --harmonization_start_scale 6\n",
        "!python harmonization.py --input_name real_scale.png --ref_name 00000152.png --harmonization_start_scale 7"
      ],
      "metadata": {
        "id": "jD2l182cKv7r"
      },
      "execution_count": null,
      "outputs": []
    },
    {
      "cell_type": "code",
      "source": [
        "!python harmonization.py --input_name real_scale.png --ref_name 00000155.png --harmonization_start_scale 1\n",
        "!python harmonization.py --input_name real_scale.png --ref_name 00000155.png --harmonization_start_scale 2\n",
        "!python harmonization.py --input_name real_scale.png --ref_name 00000155.png --harmonization_start_scale 3\n",
        "!python harmonization.py --input_name real_scale.png --ref_name 00000155.png --harmonization_start_scale 4\n",
        "!python harmonization.py --input_name real_scale.png --ref_name 00000155.png --harmonization_start_scale 5\n",
        "!python harmonization.py --input_name real_scale.png --ref_name 00000155.png --harmonization_start_scale 6\n",
        "!python harmonization.py --input_name real_scale.png --ref_name 00000155.png --harmonization_start_scale 7"
      ],
      "metadata": {
        "id": "bafPHWqKKv-f"
      },
      "execution_count": null,
      "outputs": []
    },
    {
      "cell_type": "code",
      "source": [
        "!python harmonization.py --input_name real_scale.png --ref_name 00000179.png --harmonization_start_scale 1\n",
        "!python harmonization.py --input_name real_scale.png --ref_name 00000179.png --harmonization_start_scale 2\n",
        "!python harmonization.py --input_name real_scale.png --ref_name 00000179.png --harmonization_start_scale 3\n",
        "!python harmonization.py --input_name real_scale.png --ref_name 00000179.png --harmonization_start_scale 4\n",
        "!python harmonization.py --input_name real_scale.png --ref_name 00000179.png --harmonization_start_scale 5\n",
        "!python harmonization.py --input_name real_scale.png --ref_name 00000179.png --harmonization_start_scale 6\n",
        "!python harmonization.py --input_name real_scale.png --ref_name 00000179.png --harmonization_start_scale 7"
      ],
      "metadata": {
        "id": "gRRc69b7K6-u"
      },
      "execution_count": null,
      "outputs": []
    },
    {
      "cell_type": "code",
      "source": [
        "!python harmonization.py --input_name real_scale.png --ref_name 00000195.png --harmonization_start_scale 1\n",
        "!python harmonization.py --input_name real_scale.png --ref_name 00000195.png --harmonization_start_scale 2\n",
        "!python harmonization.py --input_name real_scale.png --ref_name 00000195.png --harmonization_start_scale 3\n",
        "!python harmonization.py --input_name real_scale.png --ref_name 00000195.png --harmonization_start_scale 4\n",
        "!python harmonization.py --input_name real_scale.png --ref_name 00000195.png --harmonization_start_scale 5\n",
        "!python harmonization.py --input_name real_scale.png --ref_name 00000195.png --harmonization_start_scale 6\n",
        "!python harmonization.py --input_name real_scale.png --ref_name 00000195.png --harmonization_start_scale 7"
      ],
      "metadata": {
        "id": "tBGSyydRK7A_"
      },
      "execution_count": null,
      "outputs": []
    },
    {
      "cell_type": "code",
      "source": [
        "!python harmonization.py --input_name real_scale.png --ref_name 00000196.png --harmonization_start_scale 1\n",
        "!python harmonization.py --input_name real_scale.png --ref_name 00000196.png --harmonization_start_scale 2\n",
        "!python harmonization.py --input_name real_scale.png --ref_name 00000196.png --harmonization_start_scale 3\n",
        "!python harmonization.py --input_name real_scale.png --ref_name 00000196.png --harmonization_start_scale 4\n",
        "!python harmonization.py --input_name real_scale.png --ref_name 00000196.png --harmonization_start_scale 5\n",
        "!python harmonization.py --input_name real_scale.png --ref_name 00000196.png --harmonization_start_scale 6\n",
        "!python harmonization.py --input_name real_scale.png --ref_name 00000196.png --harmonization_start_scale 7"
      ],
      "metadata": {
        "id": "UnlvNvb2K7D3"
      },
      "execution_count": null,
      "outputs": []
    },
    {
      "cell_type": "code",
      "source": [
        "!python harmonization.py --input_name real_scale.png --ref_name 00000219.png --harmonization_start_scale 1\n",
        "!python harmonization.py --input_name real_scale.png --ref_name 00000219.png --harmonization_start_scale 2\n",
        "!python harmonization.py --input_name real_scale.png --ref_name 00000219.png --harmonization_start_scale 3\n",
        "!python harmonization.py --input_name real_scale.png --ref_name 00000219.png --harmonization_start_scale 4\n",
        "!python harmonization.py --input_name real_scale.png --ref_name 00000219.png --harmonization_start_scale 5\n",
        "!python harmonization.py --input_name real_scale.png --ref_name 00000219.png --harmonization_start_scale 6\n",
        "!python harmonization.py --input_name real_scale.png --ref_name 00000219.png --harmonization_start_scale 7"
      ],
      "metadata": {
        "id": "ZZPaqVBRK7GU"
      },
      "execution_count": null,
      "outputs": []
    },
    {
      "cell_type": "code",
      "source": [
        "!python harmonization.py --input_name real_scale.png --ref_name 00000254.png --harmonization_start_scale 1\n",
        "!python harmonization.py --input_name real_scale.png --ref_name 00000254.png --harmonization_start_scale 2\n",
        "!python harmonization.py --input_name real_scale.png --ref_name 00000254.png --harmonization_start_scale 3\n",
        "!python harmonization.py --input_name real_scale.png --ref_name 00000254.png --harmonization_start_scale 4\n",
        "!python harmonization.py --input_name real_scale.png --ref_name 00000254.png --harmonization_start_scale 5\n",
        "!python harmonization.py --input_name real_scale.png --ref_name 00000254.png --harmonization_start_scale 6\n",
        "!python harmonization.py --input_name real_scale.png --ref_name 00000254.png --harmonization_start_scale 7"
      ],
      "metadata": {
        "id": "aUJE5JyeK7Il"
      },
      "execution_count": null,
      "outputs": []
    },
    {
      "cell_type": "code",
      "source": [
        "!python harmonization.py --input_name real_scale.png --ref_name 00000255.png --harmonization_start_scale 1\n",
        "!python harmonization.py --input_name real_scale.png --ref_name 00000255.png --harmonization_start_scale 2\n",
        "!python harmonization.py --input_name real_scale.png --ref_name 00000255.png --harmonization_start_scale 3\n",
        "!python harmonization.py --input_name real_scale.png --ref_name 00000255.png --harmonization_start_scale 4\n",
        "!python harmonization.py --input_name real_scale.png --ref_name 00000255.png --harmonization_start_scale 5\n",
        "!python harmonization.py --input_name real_scale.png --ref_name 00000255.png --harmonization_start_scale 6\n",
        "!python harmonization.py --input_name real_scale.png --ref_name 00000255.png --harmonization_start_scale 7"
      ],
      "metadata": {
        "id": "8FqVVF9LLbK1"
      },
      "execution_count": null,
      "outputs": []
    },
    {
      "cell_type": "code",
      "source": [
        "!python harmonization.py --input_name real_scale.png --ref_name 00000257.png --harmonization_start_scale 1\n",
        "!python harmonization.py --input_name real_scale.png --ref_name 00000257.png --harmonization_start_scale 2\n",
        "!python harmonization.py --input_name real_scale.png --ref_name 00000257.png --harmonization_start_scale 3\n",
        "!python harmonization.py --input_name real_scale.png --ref_name 00000257.png --harmonization_start_scale 4\n",
        "!python harmonization.py --input_name real_scale.png --ref_name 00000257.png --harmonization_start_scale 5\n",
        "!python harmonization.py --input_name real_scale.png --ref_name 00000257.png --harmonization_start_scale 6\n",
        "!python harmonization.py --input_name real_scale.png --ref_name 00000257.png --harmonization_start_scale 7"
      ],
      "metadata": {
        "id": "nvek8LZPLbOL"
      },
      "execution_count": null,
      "outputs": []
    },
    {
      "cell_type": "code",
      "source": [
        "!python harmonization.py --input_name real_scale.png --ref_name 00000258.png --harmonization_start_scale 1\n",
        "!python harmonization.py --input_name real_scale.png --ref_name 00000258.png --harmonization_start_scale 2\n",
        "!python harmonization.py --input_name real_scale.png --ref_name 00000258.png --harmonization_start_scale 3\n",
        "!python harmonization.py --input_name real_scale.png --ref_name 00000258.png --harmonization_start_scale 4\n",
        "!python harmonization.py --input_name real_scale.png --ref_name 00000258.png --harmonization_start_scale 5\n",
        "!python harmonization.py --input_name real_scale.png --ref_name 00000258.png --harmonization_start_scale 6\n",
        "!python harmonization.py --input_name real_scale.png --ref_name 00000258.png --harmonization_start_scale 7"
      ],
      "metadata": {
        "id": "f2kmDpFDLbQt"
      },
      "execution_count": null,
      "outputs": []
    },
    {
      "cell_type": "code",
      "source": [
        "!python harmonization.py --input_name real_scale.png --ref_name 00000269.png --harmonization_start_scale 1\n",
        "!python harmonization.py --input_name real_scale.png --ref_name 00000269.png --harmonization_start_scale 2\n",
        "!python harmonization.py --input_name real_scale.png --ref_name 00000269.png --harmonization_start_scale 3\n",
        "!python harmonization.py --input_name real_scale.png --ref_name 00000269.png --harmonization_start_scale 4\n",
        "!python harmonization.py --input_name real_scale.png --ref_name 00000269.png --harmonization_start_scale 5\n",
        "!python harmonization.py --input_name real_scale.png --ref_name 00000269.png --harmonization_start_scale 6\n",
        "!python harmonization.py --input_name real_scale.png --ref_name 00000269.png --harmonization_start_scale 7"
      ],
      "metadata": {
        "id": "zwScxbKRLbTI"
      },
      "execution_count": null,
      "outputs": []
    },
    {
      "cell_type": "code",
      "source": [
        "!python harmonization.py --input_name real_scale.png --ref_name 00000287.png --harmonization_start_scale 1\n",
        "!python harmonization.py --input_name real_scale.png --ref_name 00000287.png --harmonization_start_scale 2\n",
        "!python harmonization.py --input_name real_scale.png --ref_name 00000287.png --harmonization_start_scale 3\n",
        "!python harmonization.py --input_name real_scale.png --ref_name 00000287.png --harmonization_start_scale 4\n",
        "!python harmonization.py --input_name real_scale.png --ref_name 00000287.png --harmonization_start_scale 5\n",
        "!python harmonization.py --input_name real_scale.png --ref_name 00000287.png --harmonization_start_scale 6\n",
        "!python harmonization.py --input_name real_scale.png --ref_name 00000287.png --harmonization_start_scale 7"
      ],
      "metadata": {
        "id": "LGGLXAmYLbVd"
      },
      "execution_count": null,
      "outputs": []
    },
    {
      "cell_type": "code",
      "source": [
        "!python harmonization.py --input_name real_scale.png --ref_name 00000311.png --harmonization_start_scale 1\n",
        "!python harmonization.py --input_name real_scale.png --ref_name 00000311.png --harmonization_start_scale 2\n",
        "!python harmonization.py --input_name real_scale.png --ref_name 00000311.png --harmonization_start_scale 3\n",
        "!python harmonization.py --input_name real_scale.png --ref_name 00000311.png --harmonization_start_scale 4\n",
        "!python harmonization.py --input_name real_scale.png --ref_name 00000311.png --harmonization_start_scale 5\n",
        "!python harmonization.py --input_name real_scale.png --ref_name 00000311.png --harmonization_start_scale 6\n",
        "!python harmonization.py --input_name real_scale.png --ref_name 00000311.png --harmonization_start_scale 7"
      ],
      "metadata": {
        "id": "igrVtjEgLbX7"
      },
      "execution_count": null,
      "outputs": []
    },
    {
      "cell_type": "code",
      "source": [
        "!python harmonization.py --input_name real_scale.png --ref_name 00000318.png --harmonization_start_scale 1\n",
        "!python harmonization.py --input_name real_scale.png --ref_name 00000318.png --harmonization_start_scale 2\n",
        "!python harmonization.py --input_name real_scale.png --ref_name 00000318.png --harmonization_start_scale 3\n",
        "!python harmonization.py --input_name real_scale.png --ref_name 00000318.png --harmonization_start_scale 4\n",
        "!python harmonization.py --input_name real_scale.png --ref_name 00000318.png --harmonization_start_scale 5\n",
        "!python harmonization.py --input_name real_scale.png --ref_name 00000318.png --harmonization_start_scale 6\n",
        "!python harmonization.py --input_name real_scale.png --ref_name 00000318.png --harmonization_start_scale 7"
      ],
      "metadata": {
        "id": "iF7gFmM_Lbac"
      },
      "execution_count": null,
      "outputs": []
    },
    {
      "cell_type": "code",
      "source": [
        "!python harmonization.py --input_name real_scale.png --ref_name 00000326.png --harmonization_start_scale 1\n",
        "!python harmonization.py --input_name real_scale.png --ref_name 00000326.png --harmonization_start_scale 2\n",
        "!python harmonization.py --input_name real_scale.png --ref_name 00000326.png --harmonization_start_scale 3\n",
        "!python harmonization.py --input_name real_scale.png --ref_name 00000326.png --harmonization_start_scale 4\n",
        "!python harmonization.py --input_name real_scale.png --ref_name 00000326.png --harmonization_start_scale 5\n",
        "!python harmonization.py --input_name real_scale.png --ref_name 00000326.png --harmonization_start_scale 6\n",
        "!python harmonization.py --input_name real_scale.png --ref_name 00000326.png --harmonization_start_scale 7"
      ],
      "metadata": {
        "id": "TEfNeMNiLbck"
      },
      "execution_count": null,
      "outputs": []
    },
    {
      "cell_type": "code",
      "source": [
        "!python harmonization.py --input_name real_scale.png --ref_name 00000362.png --harmonization_start_scale 1\n",
        "!python harmonization.py --input_name real_scale.png --ref_name 00000362.png --harmonization_start_scale 2\n",
        "!python harmonization.py --input_name real_scale.png --ref_name 00000362.png --harmonization_start_scale 3\n",
        "!python harmonization.py --input_name real_scale.png --ref_name 00000362.png --harmonization_start_scale 4\n",
        "!python harmonization.py --input_name real_scale.png --ref_name 00000362.png --harmonization_start_scale 5\n",
        "!python harmonization.py --input_name real_scale.png --ref_name 00000362.png --harmonization_start_scale 6\n",
        "!python harmonization.py --input_name real_scale.png --ref_name 00000362.png --harmonization_start_scale 7"
      ],
      "metadata": {
        "id": "gAgMMdJqLbfB"
      },
      "execution_count": null,
      "outputs": []
    },
    {
      "cell_type": "code",
      "source": [
        "!python harmonization.py --input_name real_scale.png --ref_name 00000417.png --harmonization_start_scale 1\n",
        "!python harmonization.py --input_name real_scale.png --ref_name 00000417.png --harmonization_start_scale 2\n",
        "!python harmonization.py --input_name real_scale.png --ref_name 00000417.png --harmonization_start_scale 3\n",
        "!python harmonization.py --input_name real_scale.png --ref_name 00000417.png --harmonization_start_scale 4\n",
        "!python harmonization.py --input_name real_scale.png --ref_name 00000417.png --harmonization_start_scale 5\n",
        "!python harmonization.py --input_name real_scale.png --ref_name 00000417.png --harmonization_start_scale 6\n",
        "!python harmonization.py --input_name real_scale.png --ref_name 00000417.png --harmonization_start_scale 7"
      ],
      "metadata": {
        "id": "nMBCKdiWLrKU"
      },
      "execution_count": null,
      "outputs": []
    }
  ]
}